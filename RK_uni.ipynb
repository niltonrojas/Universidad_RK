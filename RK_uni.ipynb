{
 "cells": [
  {
   "cell_type": "markdown",
   "metadata": {
    "id": "W1B8YGw-mXLZ"
   },
   "source": [
    "# Primera Parte: Carga de Datos"
   ]
  },
  {
   "cell_type": "code",
   "execution_count": 713,
   "metadata": {},
   "outputs": [],
   "source": [
    "import pandas as pd"
   ]
  },
  {
   "cell_type": "code",
   "execution_count": 756,
   "metadata": {},
   "outputs": [
    {
     "name": "stdout",
     "output_type": "stream",
     "text": [
      "<class 'pandas.core.frame.DataFrame'>\n",
      "RangeIndex: 6482 entries, 0 to 6481\n",
      "Data columns (total 15 columns):\n",
      " #   Column                  Non-Null Count  Dtype  \n",
      "---  ------                  --------------  -----  \n",
      " 0   university              6482 non-null   object \n",
      " 1   year                    6482 non-null   int64  \n",
      " 2   rank_display            6414 non-null   object \n",
      " 3   score                   2820 non-null   float64\n",
      " 4   link                    6482 non-null   object \n",
      " 5   country                 6482 non-null   object \n",
      " 6   city                    6304 non-null   object \n",
      " 7   region                  6482 non-null   object \n",
      " 8   logo                    6482 non-null   object \n",
      " 9   type                    6470 non-null   object \n",
      " 10  research_output         6480 non-null   object \n",
      " 11  student_faculty_ratio   6407 non-null   float64\n",
      " 12  international_students  6318 non-null   object \n",
      " 13  size                    6480 non-null   object \n",
      " 14  faculty_count           6404 non-null   object \n",
      "dtypes: float64(2), int64(1), object(12)\n",
      "memory usage: 759.7+ KB\n"
     ]
    }
   ],
   "source": [
    "# En esta parte se carga la Data y se visualiza la cantidad de campos que se tiene en la data.\n",
    "Uni=pd.read_csv('qs-world-university-rankings-2017-to-2022-V2.csv')\n",
    "Uni.head()\n",
    "Uni.info()\n",
    "Uni = Uni[Uni.year == 2020]"
   ]
  },
  {
   "cell_type": "markdown",
   "metadata": {},
   "source": [
    "# Segunda Parte: Limpieza de Datos"
   ]
  },
  {
   "cell_type": "code",
   "execution_count": 757,
   "metadata": {},
   "outputs": [],
   "source": [
    "#Seleccionando los campos con los que se va a trabajar.\n",
    "Uni=Uni[['research_output','international_students','type','score',]]"
   ]
  },
  {
   "cell_type": "code",
   "execution_count": 758,
   "metadata": {},
   "outputs": [
    {
     "data": {
      "text/plain": [
       "research_output             1\n",
       "international_students     26\n",
       "type                        4\n",
       "score                     568\n",
       "dtype: int64"
      ]
     },
     "execution_count": 758,
     "metadata": {},
     "output_type": "execute_result"
    }
   ],
   "source": [
    "#ver el numero de registros null.\n",
    "Uni.isna().sum()"
   ]
  },
  {
   "cell_type": "code",
   "execution_count": 759,
   "metadata": {},
   "outputs": [
    {
     "data": {
      "text/html": [
       "<div>\n",
       "<style scoped>\n",
       "    .dataframe tbody tr th:only-of-type {\n",
       "        vertical-align: middle;\n",
       "    }\n",
       "\n",
       "    .dataframe tbody tr th {\n",
       "        vertical-align: top;\n",
       "    }\n",
       "\n",
       "    .dataframe thead th {\n",
       "        text-align: right;\n",
       "    }\n",
       "</style>\n",
       "<table border=\"1\" class=\"dataframe\">\n",
       "  <thead>\n",
       "    <tr style=\"text-align: right;\">\n",
       "      <th></th>\n",
       "      <th>research_output</th>\n",
       "      <th>international_students</th>\n",
       "      <th>type</th>\n",
       "      <th>score</th>\n",
       "    </tr>\n",
       "  </thead>\n",
       "  <tbody>\n",
       "    <tr>\n",
       "      <th>2928</th>\n",
       "      <td>Very High</td>\n",
       "      <td>3,730</td>\n",
       "      <td>Private</td>\n",
       "      <td>100.0</td>\n",
       "    </tr>\n",
       "    <tr>\n",
       "      <th>2929</th>\n",
       "      <td>Very High</td>\n",
       "      <td>3,879</td>\n",
       "      <td>Private</td>\n",
       "      <td>98.4</td>\n",
       "    </tr>\n",
       "    <tr>\n",
       "      <th>2930</th>\n",
       "      <td>Very High</td>\n",
       "      <td>5,877</td>\n",
       "      <td>Private</td>\n",
       "      <td>97.4</td>\n",
       "    </tr>\n",
       "    <tr>\n",
       "      <th>2931</th>\n",
       "      <td>Very High</td>\n",
       "      <td>8,442</td>\n",
       "      <td>Public</td>\n",
       "      <td>97.2</td>\n",
       "    </tr>\n",
       "    <tr>\n",
       "      <th>2932</th>\n",
       "      <td>Very High</td>\n",
       "      <td>692</td>\n",
       "      <td>Private</td>\n",
       "      <td>96.9</td>\n",
       "    </tr>\n",
       "    <tr>\n",
       "      <th>...</th>\n",
       "      <td>...</td>\n",
       "      <td>...</td>\n",
       "      <td>...</td>\n",
       "      <td>...</td>\n",
       "    </tr>\n",
       "    <tr>\n",
       "      <th>3992</th>\n",
       "      <td>High</td>\n",
       "      <td>3,089</td>\n",
       "      <td>Public</td>\n",
       "      <td>NaN</td>\n",
       "    </tr>\n",
       "    <tr>\n",
       "      <th>3993</th>\n",
       "      <td>Very High</td>\n",
       "      <td>922</td>\n",
       "      <td>Public</td>\n",
       "      <td>NaN</td>\n",
       "    </tr>\n",
       "    <tr>\n",
       "      <th>3994</th>\n",
       "      <td>Very High</td>\n",
       "      <td>NaN</td>\n",
       "      <td>Public</td>\n",
       "      <td>NaN</td>\n",
       "    </tr>\n",
       "    <tr>\n",
       "      <th>3995</th>\n",
       "      <td>High</td>\n",
       "      <td>799</td>\n",
       "      <td>Public</td>\n",
       "      <td>NaN</td>\n",
       "    </tr>\n",
       "    <tr>\n",
       "      <th>3996</th>\n",
       "      <td>Very High</td>\n",
       "      <td>NaN</td>\n",
       "      <td>Private</td>\n",
       "      <td>69.6</td>\n",
       "    </tr>\n",
       "  </tbody>\n",
       "</table>\n",
       "<p>1069 rows × 4 columns</p>\n",
       "</div>"
      ],
      "text/plain": [
       "     research_output international_students     type  score\n",
       "2928       Very High                  3,730  Private  100.0\n",
       "2929       Very High                  3,879  Private   98.4\n",
       "2930       Very High                  5,877  Private   97.4\n",
       "2931       Very High                  8,442   Public   97.2\n",
       "2932       Very High                    692  Private   96.9\n",
       "...              ...                    ...      ...    ...\n",
       "3992            High                  3,089   Public    NaN\n",
       "3993       Very High                    922   Public    NaN\n",
       "3994       Very High                    NaN   Public    NaN\n",
       "3995            High                    799   Public    NaN\n",
       "3996       Very High                    NaN  Private   69.6\n",
       "\n",
       "[1069 rows x 4 columns]"
      ]
     },
     "execution_count": 759,
     "metadata": {},
     "output_type": "execute_result"
    }
   ],
   "source": [
    "Uni"
   ]
  },
  {
   "cell_type": "code",
   "execution_count": 760,
   "metadata": {},
   "outputs": [
    {
     "data": {
      "text/plain": [
       "research_output            1\n",
       "international_students    26\n",
       "type                       4\n",
       "score                      0\n",
       "dtype: int64"
      ]
     },
     "execution_count": 760,
     "metadata": {},
     "output_type": "execute_result"
    }
   ],
   "source": [
    "#Llenando los campos nulos con la media del campo score.\n",
    "Uni['score'] = Uni['score'].fillna(Uni['score'].mean())\n",
    "Uni.isna().sum()"
   ]
  },
  {
   "cell_type": "code",
   "execution_count": 761,
   "metadata": {},
   "outputs": [],
   "source": [
    "#llenando de el tipo de universidad con private o public. \n",
    "import random as rd\n",
    "tipos=['private','public']\n",
    "def filltype(tipo):\n",
    " i=rd.randint(0,1) # rango de 0 a 1\n",
    " tipo=tipos[i]\n",
    " return tipo\n",
    "Uni['type'] = Uni['type'].fillna(Uni['type'].apply(filltype))"
   ]
  },
  {
   "cell_type": "code",
   "execution_count": 762,
   "metadata": {},
   "outputs": [
    {
     "data": {
      "text/html": [
       "<div>\n",
       "<style scoped>\n",
       "    .dataframe tbody tr th:only-of-type {\n",
       "        vertical-align: middle;\n",
       "    }\n",
       "\n",
       "    .dataframe tbody tr th {\n",
       "        vertical-align: top;\n",
       "    }\n",
       "\n",
       "    .dataframe thead th {\n",
       "        text-align: right;\n",
       "    }\n",
       "</style>\n",
       "<table border=\"1\" class=\"dataframe\">\n",
       "  <thead>\n",
       "    <tr style=\"text-align: right;\">\n",
       "      <th></th>\n",
       "      <th>research_output</th>\n",
       "      <th>international_students</th>\n",
       "      <th>type</th>\n",
       "      <th>score</th>\n",
       "    </tr>\n",
       "  </thead>\n",
       "  <tbody>\n",
       "    <tr>\n",
       "      <th>2928</th>\n",
       "      <td>Very High</td>\n",
       "      <td>3,730</td>\n",
       "      <td>Private</td>\n",
       "      <td>100.000000</td>\n",
       "    </tr>\n",
       "    <tr>\n",
       "      <th>2929</th>\n",
       "      <td>Very High</td>\n",
       "      <td>3,879</td>\n",
       "      <td>Private</td>\n",
       "      <td>98.400000</td>\n",
       "    </tr>\n",
       "    <tr>\n",
       "      <th>2930</th>\n",
       "      <td>Very High</td>\n",
       "      <td>5,877</td>\n",
       "      <td>Private</td>\n",
       "      <td>97.400000</td>\n",
       "    </tr>\n",
       "    <tr>\n",
       "      <th>2931</th>\n",
       "      <td>Very High</td>\n",
       "      <td>8,442</td>\n",
       "      <td>Public</td>\n",
       "      <td>97.200000</td>\n",
       "    </tr>\n",
       "    <tr>\n",
       "      <th>2932</th>\n",
       "      <td>Very High</td>\n",
       "      <td>692</td>\n",
       "      <td>Private</td>\n",
       "      <td>96.900000</td>\n",
       "    </tr>\n",
       "    <tr>\n",
       "      <th>...</th>\n",
       "      <td>...</td>\n",
       "      <td>...</td>\n",
       "      <td>...</td>\n",
       "      <td>...</td>\n",
       "    </tr>\n",
       "    <tr>\n",
       "      <th>3992</th>\n",
       "      <td>High</td>\n",
       "      <td>3,089</td>\n",
       "      <td>Public</td>\n",
       "      <td>44.618563</td>\n",
       "    </tr>\n",
       "    <tr>\n",
       "      <th>3993</th>\n",
       "      <td>Very High</td>\n",
       "      <td>922</td>\n",
       "      <td>Public</td>\n",
       "      <td>44.618563</td>\n",
       "    </tr>\n",
       "    <tr>\n",
       "      <th>3994</th>\n",
       "      <td>Very High</td>\n",
       "      <td>NaN</td>\n",
       "      <td>Public</td>\n",
       "      <td>44.618563</td>\n",
       "    </tr>\n",
       "    <tr>\n",
       "      <th>3995</th>\n",
       "      <td>High</td>\n",
       "      <td>799</td>\n",
       "      <td>Public</td>\n",
       "      <td>44.618563</td>\n",
       "    </tr>\n",
       "    <tr>\n",
       "      <th>3996</th>\n",
       "      <td>Very High</td>\n",
       "      <td>NaN</td>\n",
       "      <td>Private</td>\n",
       "      <td>69.600000</td>\n",
       "    </tr>\n",
       "  </tbody>\n",
       "</table>\n",
       "<p>1069 rows × 4 columns</p>\n",
       "</div>"
      ],
      "text/plain": [
       "     research_output international_students     type       score\n",
       "2928       Very High                  3,730  Private  100.000000\n",
       "2929       Very High                  3,879  Private   98.400000\n",
       "2930       Very High                  5,877  Private   97.400000\n",
       "2931       Very High                  8,442   Public   97.200000\n",
       "2932       Very High                    692  Private   96.900000\n",
       "...              ...                    ...      ...         ...\n",
       "3992            High                  3,089   Public   44.618563\n",
       "3993       Very High                    922   Public   44.618563\n",
       "3994       Very High                    NaN   Public   44.618563\n",
       "3995            High                    799   Public   44.618563\n",
       "3996       Very High                    NaN  Private   69.600000\n",
       "\n",
       "[1069 rows x 4 columns]"
      ]
     },
     "execution_count": 762,
     "metadata": {},
     "output_type": "execute_result"
    }
   ],
   "source": [
    "Uni"
   ]
  },
  {
   "cell_type": "code",
   "execution_count": 763,
   "metadata": {},
   "outputs": [
    {
     "data": {
      "text/plain": [
       "research_output            1\n",
       "international_students    26\n",
       "type                       0\n",
       "score                      0\n",
       "dtype: int64"
      ]
     },
     "execution_count": 763,
     "metadata": {},
     "output_type": "execute_result"
    }
   ],
   "source": [
    "Uni.isna().sum()"
   ]
  },
  {
   "cell_type": "code",
   "execution_count": 764,
   "metadata": {},
   "outputs": [],
   "source": [
    "quality=['very high','medium','high','low']\n",
    "def fillquality(tipo):\n",
    " i=rd.randint(0,3)\n",
    " tipo=quality[i]\n",
    " return tipo\n",
    "Uni['research_output'] = Uni['research_output'].fillna(Uni['research_output'].apply(fillquality))"
   ]
  },
  {
   "cell_type": "code",
   "execution_count": 765,
   "metadata": {},
   "outputs": [],
   "source": [
    "Uni.isna().sum()\n",
    "#estandarizando los datos \"reasearch_output y type\" a minuscula\n",
    "Uni['research_output']=Uni['research_output'].str.lower()\n",
    "Uni['type'] = Uni['type'].str.lower()"
   ]
  },
  {
   "cell_type": "code",
   "execution_count": 766,
   "metadata": {},
   "outputs": [
    {
     "data": {
      "text/html": [
       "<div>\n",
       "<style scoped>\n",
       "    .dataframe tbody tr th:only-of-type {\n",
       "        vertical-align: middle;\n",
       "    }\n",
       "\n",
       "    .dataframe tbody tr th {\n",
       "        vertical-align: top;\n",
       "    }\n",
       "\n",
       "    .dataframe thead th {\n",
       "        text-align: right;\n",
       "    }\n",
       "</style>\n",
       "<table border=\"1\" class=\"dataframe\">\n",
       "  <thead>\n",
       "    <tr style=\"text-align: right;\">\n",
       "      <th></th>\n",
       "      <th>research_output</th>\n",
       "      <th>international_students</th>\n",
       "      <th>type</th>\n",
       "      <th>score</th>\n",
       "    </tr>\n",
       "  </thead>\n",
       "  <tbody>\n",
       "    <tr>\n",
       "      <th>2928</th>\n",
       "      <td>very high</td>\n",
       "      <td>3,730</td>\n",
       "      <td>private</td>\n",
       "      <td>100.0</td>\n",
       "    </tr>\n",
       "    <tr>\n",
       "      <th>2929</th>\n",
       "      <td>very high</td>\n",
       "      <td>3,879</td>\n",
       "      <td>private</td>\n",
       "      <td>98.4</td>\n",
       "    </tr>\n",
       "    <tr>\n",
       "      <th>2930</th>\n",
       "      <td>very high</td>\n",
       "      <td>5,877</td>\n",
       "      <td>private</td>\n",
       "      <td>97.4</td>\n",
       "    </tr>\n",
       "    <tr>\n",
       "      <th>2931</th>\n",
       "      <td>very high</td>\n",
       "      <td>8,442</td>\n",
       "      <td>public</td>\n",
       "      <td>97.2</td>\n",
       "    </tr>\n",
       "    <tr>\n",
       "      <th>2932</th>\n",
       "      <td>very high</td>\n",
       "      <td>692</td>\n",
       "      <td>private</td>\n",
       "      <td>96.9</td>\n",
       "    </tr>\n",
       "    <tr>\n",
       "      <th>2933</th>\n",
       "      <td>very high</td>\n",
       "      <td>7,733</td>\n",
       "      <td>public</td>\n",
       "      <td>95.9</td>\n",
       "    </tr>\n",
       "    <tr>\n",
       "      <th>2934</th>\n",
       "      <td>very high</td>\n",
       "      <td>7,925</td>\n",
       "      <td>public</td>\n",
       "      <td>95.0</td>\n",
       "    </tr>\n",
       "    <tr>\n",
       "      <th>2935</th>\n",
       "      <td>very high</td>\n",
       "      <td>21,824</td>\n",
       "      <td>public</td>\n",
       "      <td>94.8</td>\n",
       "    </tr>\n",
       "    <tr>\n",
       "      <th>2936</th>\n",
       "      <td>very high</td>\n",
       "      <td>11,143</td>\n",
       "      <td>public</td>\n",
       "      <td>94.1</td>\n",
       "    </tr>\n",
       "    <tr>\n",
       "      <th>2937</th>\n",
       "      <td>very high</td>\n",
       "      <td>4,696</td>\n",
       "      <td>private</td>\n",
       "      <td>92.0</td>\n",
       "    </tr>\n",
       "    <tr>\n",
       "      <th>2938</th>\n",
       "      <td>very high</td>\n",
       "      <td>6,091</td>\n",
       "      <td>public</td>\n",
       "      <td>91.8</td>\n",
       "    </tr>\n",
       "    <tr>\n",
       "      <th>2939</th>\n",
       "      <td>very high</td>\n",
       "      <td>7,551</td>\n",
       "      <td>public</td>\n",
       "      <td>91.8</td>\n",
       "    </tr>\n",
       "    <tr>\n",
       "      <th>2940</th>\n",
       "      <td>very high</td>\n",
       "      <td>1,912</td>\n",
       "      <td>private</td>\n",
       "      <td>90.9</td>\n",
       "    </tr>\n",
       "    <tr>\n",
       "      <th>2941</th>\n",
       "      <td>very high</td>\n",
       "      <td>5,675</td>\n",
       "      <td>private</td>\n",
       "      <td>89.3</td>\n",
       "    </tr>\n",
       "    <tr>\n",
       "      <th>2942</th>\n",
       "      <td>very high</td>\n",
       "      <td>4,636</td>\n",
       "      <td>private</td>\n",
       "      <td>88.9</td>\n",
       "    </tr>\n",
       "    <tr>\n",
       "      <th>2943</th>\n",
       "      <td>very high</td>\n",
       "      <td>5,420</td>\n",
       "      <td>public</td>\n",
       "      <td>88.6</td>\n",
       "    </tr>\n",
       "    <tr>\n",
       "      <th>2944</th>\n",
       "      <td>very high</td>\n",
       "      <td>2,537</td>\n",
       "      <td>private</td>\n",
       "      <td>87.7</td>\n",
       "    </tr>\n",
       "    <tr>\n",
       "      <th>2945</th>\n",
       "      <td>very high</td>\n",
       "      <td>11,252</td>\n",
       "      <td>private</td>\n",
       "      <td>87.4</td>\n",
       "    </tr>\n",
       "    <tr>\n",
       "      <th>2946</th>\n",
       "      <td>very high</td>\n",
       "      <td>6,426</td>\n",
       "      <td>public</td>\n",
       "      <td>87.4</td>\n",
       "    </tr>\n",
       "    <tr>\n",
       "      <th>2947</th>\n",
       "      <td>very high</td>\n",
       "      <td>14,637</td>\n",
       "      <td>public</td>\n",
       "      <td>86.2</td>\n",
       "    </tr>\n",
       "  </tbody>\n",
       "</table>\n",
       "</div>"
      ],
      "text/plain": [
       "     research_output international_students     type  score\n",
       "2928       very high                  3,730  private  100.0\n",
       "2929       very high                  3,879  private   98.4\n",
       "2930       very high                  5,877  private   97.4\n",
       "2931       very high                  8,442   public   97.2\n",
       "2932       very high                    692  private   96.9\n",
       "2933       very high                  7,733   public   95.9\n",
       "2934       very high                  7,925   public   95.0\n",
       "2935       very high                 21,824   public   94.8\n",
       "2936       very high                 11,143   public   94.1\n",
       "2937       very high                  4,696  private   92.0\n",
       "2938       very high                  6,091   public   91.8\n",
       "2939       very high                  7,551   public   91.8\n",
       "2940       very high                  1,912  private   90.9\n",
       "2941       very high                  5,675  private   89.3\n",
       "2942       very high                  4,636  private   88.9\n",
       "2943       very high                  5,420   public   88.6\n",
       "2944       very high                  2,537  private   87.7\n",
       "2945       very high                 11,252  private   87.4\n",
       "2946       very high                  6,426   public   87.4\n",
       "2947       very high                 14,637   public   86.2"
      ]
     },
     "execution_count": 766,
     "metadata": {},
     "output_type": "execute_result"
    }
   ],
   "source": [
    "Uni.head(20)"
   ]
  },
  {
   "cell_type": "code",
   "execution_count": 767,
   "metadata": {},
   "outputs": [],
   "source": [
    "import re\n",
    "#Limpiando los puntos y comas del campo international_students\n",
    "Uni['international_students']=Uni['international_students'].str.replace(re.compile('[\\.,]'),'')"
   ]
  },
  {
   "cell_type": "code",
   "execution_count": 768,
   "metadata": {},
   "outputs": [],
   "source": [
    "#llenado del campo international_students con valores de rango [1000-25000]\n",
    "def fillstudents(tipo):\n",
    " i=rd.randint(1000,25000)\n",
    " return str(i)\n",
    "Uni['international_students']= Uni['international_students'].fillna(Uni['international_students'].apply(fillstudents))"
   ]
  },
  {
   "cell_type": "code",
   "execution_count": 769,
   "metadata": {},
   "outputs": [
    {
     "data": {
      "text/plain": [
       "research_output           0\n",
       "international_students    0\n",
       "type                      0\n",
       "score                     0\n",
       "dtype: int64"
      ]
     },
     "execution_count": 769,
     "metadata": {},
     "output_type": "execute_result"
    }
   ],
   "source": [
    "#visualizacon de los campos a utilizar\n",
    "Uni.isna().sum()"
   ]
  },
  {
   "cell_type": "code",
   "execution_count": 770,
   "metadata": {},
   "outputs": [
    {
     "name": "stdout",
     "output_type": "stream",
     "text": [
      "<class 'pandas.core.frame.DataFrame'>\n",
      "Int64Index: 1069 entries, 2928 to 3996\n",
      "Data columns (total 4 columns):\n",
      " #   Column                  Non-Null Count  Dtype  \n",
      "---  ------                  --------------  -----  \n",
      " 0   research_output         1069 non-null   object \n",
      " 1   international_students  1069 non-null   int64  \n",
      " 2   type                    1069 non-null   object \n",
      " 3   score                   1069 non-null   float64\n",
      "dtypes: float64(1), int64(1), object(2)\n",
      "memory usage: 41.8+ KB\n"
     ]
    }
   ],
   "source": [
    "#comvercion del campo international_students  de string a int\n",
    "Uni['international_students']=Uni['international_students'].astype(int)\n",
    "Uni.info()"
   ]
  },
  {
   "cell_type": "markdown",
   "metadata": {},
   "source": [
    "# Tercera Parte: Normalizacion de Datos"
   ]
  },
  {
   "cell_type": "code",
   "execution_count": 771,
   "metadata": {},
   "outputs": [
    {
     "data": {
      "text/html": [
       "<div>\n",
       "<style scoped>\n",
       "    .dataframe tbody tr th:only-of-type {\n",
       "        vertical-align: middle;\n",
       "    }\n",
       "\n",
       "    .dataframe tbody tr th {\n",
       "        vertical-align: top;\n",
       "    }\n",
       "\n",
       "    .dataframe thead th {\n",
       "        text-align: right;\n",
       "    }\n",
       "</style>\n",
       "<table border=\"1\" class=\"dataframe\">\n",
       "  <thead>\n",
       "    <tr style=\"text-align: right;\">\n",
       "      <th></th>\n",
       "      <th>research_output</th>\n",
       "      <th>international_students</th>\n",
       "      <th>type</th>\n",
       "      <th>score</th>\n",
       "    </tr>\n",
       "  </thead>\n",
       "  <tbody>\n",
       "    <tr>\n",
       "      <th>3425</th>\n",
       "      <td>very high</td>\n",
       "      <td>6229</td>\n",
       "      <td>public</td>\n",
       "      <td>24.200000</td>\n",
       "    </tr>\n",
       "    <tr>\n",
       "      <th>3512</th>\n",
       "      <td>very high</td>\n",
       "      <td>1751</td>\n",
       "      <td>public</td>\n",
       "      <td>44.618563</td>\n",
       "    </tr>\n",
       "    <tr>\n",
       "      <th>3563</th>\n",
       "      <td>very high</td>\n",
       "      <td>2270</td>\n",
       "      <td>public</td>\n",
       "      <td>44.618563</td>\n",
       "    </tr>\n",
       "    <tr>\n",
       "      <th>3452</th>\n",
       "      <td>high</td>\n",
       "      <td>2291</td>\n",
       "      <td>public</td>\n",
       "      <td>44.618563</td>\n",
       "    </tr>\n",
       "    <tr>\n",
       "      <th>3398</th>\n",
       "      <td>high</td>\n",
       "      <td>7123</td>\n",
       "      <td>public</td>\n",
       "      <td>25.100000</td>\n",
       "    </tr>\n",
       "  </tbody>\n",
       "</table>\n",
       "</div>"
      ],
      "text/plain": [
       "     research_output  international_students    type      score\n",
       "3425       very high                    6229  public  24.200000\n",
       "3512       very high                    1751  public  44.618563\n",
       "3563       very high                    2270  public  44.618563\n",
       "3452            high                    2291  public  44.618563\n",
       "3398            high                    7123  public  25.100000"
      ]
     },
     "execution_count": 771,
     "metadata": {},
     "output_type": "execute_result"
    }
   ],
   "source": [
    "# Desordenando la base de datos\n",
    "import sklearn\n",
    "Uni_shuffle = sklearn.utils.shuffle(Uni) \n",
    "Uni_shuffle.head()"
   ]
  },
  {
   "cell_type": "code",
   "execution_count": 772,
   "metadata": {},
   "outputs": [
    {
     "data": {
      "text/plain": [
       "Index(['private', 'public'], dtype='object')"
      ]
     },
     "execution_count": 772,
     "metadata": {},
     "output_type": "execute_result"
    }
   ],
   "source": [
    "#categorizando el campo type a 0 y 1 (private, public)\n",
    "Uni_shuffle['type'], categoryType = Uni_shuffle['type'].factorize(sort=True)\n",
    "categoryType"
   ]
  },
  {
   "cell_type": "code",
   "execution_count": 773,
   "metadata": {},
   "outputs": [
    {
     "data": {
      "text/plain": [
       "3425    1\n",
       "3512    1\n",
       "3563    1\n",
       "3452    1\n",
       "3398    1\n",
       "       ..\n",
       "3227    1\n",
       "3602    1\n",
       "3461    1\n",
       "3677    0\n",
       "3499    1\n",
       "Name: type, Length: 1069, dtype: int64"
      ]
     },
     "execution_count": 773,
     "metadata": {},
     "output_type": "execute_result"
    }
   ],
   "source": [
    "Uni_shuffle.type"
   ]
  },
  {
   "cell_type": "code",
   "execution_count": 774,
   "metadata": {},
   "outputs": [
    {
     "data": {
      "text/plain": [
       "Index(['high', 'low', 'medium', 'very high'], dtype='object')"
      ]
     },
     "execution_count": 774,
     "metadata": {},
     "output_type": "execute_result"
    }
   ],
   "source": [
    "# Categorizando el campo research_output\n",
    "Uni_shuffle['research_output'], categoryReasearch = Uni_shuffle['research_output'].factorize(sort = True)\n",
    "categoryResearch"
   ]
  },
  {
   "cell_type": "code",
   "execution_count": 775,
   "metadata": {},
   "outputs": [
    {
     "data": {
      "text/html": [
       "<div>\n",
       "<style scoped>\n",
       "    .dataframe tbody tr th:only-of-type {\n",
       "        vertical-align: middle;\n",
       "    }\n",
       "\n",
       "    .dataframe tbody tr th {\n",
       "        vertical-align: top;\n",
       "    }\n",
       "\n",
       "    .dataframe thead th {\n",
       "        text-align: right;\n",
       "    }\n",
       "</style>\n",
       "<table border=\"1\" class=\"dataframe\">\n",
       "  <thead>\n",
       "    <tr style=\"text-align: right;\">\n",
       "      <th></th>\n",
       "      <th>research_output</th>\n",
       "      <th>international_students</th>\n",
       "      <th>type</th>\n",
       "      <th>score</th>\n",
       "    </tr>\n",
       "  </thead>\n",
       "  <tbody>\n",
       "    <tr>\n",
       "      <th>3425</th>\n",
       "      <td>3</td>\n",
       "      <td>6229</td>\n",
       "      <td>1</td>\n",
       "      <td>24.200000</td>\n",
       "    </tr>\n",
       "    <tr>\n",
       "      <th>3512</th>\n",
       "      <td>3</td>\n",
       "      <td>1751</td>\n",
       "      <td>1</td>\n",
       "      <td>44.618563</td>\n",
       "    </tr>\n",
       "    <tr>\n",
       "      <th>3563</th>\n",
       "      <td>3</td>\n",
       "      <td>2270</td>\n",
       "      <td>1</td>\n",
       "      <td>44.618563</td>\n",
       "    </tr>\n",
       "    <tr>\n",
       "      <th>3452</th>\n",
       "      <td>0</td>\n",
       "      <td>2291</td>\n",
       "      <td>1</td>\n",
       "      <td>44.618563</td>\n",
       "    </tr>\n",
       "    <tr>\n",
       "      <th>3398</th>\n",
       "      <td>0</td>\n",
       "      <td>7123</td>\n",
       "      <td>1</td>\n",
       "      <td>25.100000</td>\n",
       "    </tr>\n",
       "  </tbody>\n",
       "</table>\n",
       "</div>"
      ],
      "text/plain": [
       "      research_output  international_students  type      score\n",
       "3425                3                    6229     1  24.200000\n",
       "3512                3                    1751     1  44.618563\n",
       "3563                3                    2270     1  44.618563\n",
       "3452                0                    2291     1  44.618563\n",
       "3398                0                    7123     1  25.100000"
      ]
     },
     "execution_count": 775,
     "metadata": {},
     "output_type": "execute_result"
    }
   ],
   "source": [
    "Uni_shuffle.head()"
   ]
  },
  {
   "cell_type": "code",
   "execution_count": 776,
   "metadata": {},
   "outputs": [
    {
     "data": {
      "text/plain": [
       "(3425    (24.124, 31.78]\n",
       " 3512     (39.36, 46.94]\n",
       " 3563     (39.36, 46.94]\n",
       " 3452     (39.36, 46.94]\n",
       " 3398    (24.124, 31.78]\n",
       "              ...       \n",
       " 3227     (31.78, 39.36]\n",
       " 3602     (39.36, 46.94]\n",
       " 3461     (39.36, 46.94]\n",
       " 3677     (39.36, 46.94]\n",
       " 3499     (39.36, 46.94]\n",
       " Name: score, Length: 1069, dtype: category\n",
       " Categories (10, interval[float64, right]): [(24.124, 31.78] < (31.78, 39.36] < (39.36, 46.94] < (46.94, 54.52] ... (69.68, 77.26] < (77.26, 84.84] < (84.84, 92.42] < (92.42, 100.0]],\n",
       " array([ 24.1242,  31.78  ,  39.36  ,  46.94  ,  54.52  ,  62.1   ,\n",
       "         69.68  ,  77.26  ,  84.84  ,  92.42  , 100.    ]))"
      ]
     },
     "execution_count": 776,
     "metadata": {},
     "output_type": "execute_result"
    }
   ],
   "source": [
    "# Etiquetando el campo score en intervalos\n",
    "pd.cut(Uni_shuffle['score'],10,retbins = True)"
   ]
  },
  {
   "cell_type": "code",
   "execution_count": 777,
   "metadata": {},
   "outputs": [],
   "source": [
    "# Modificando el campo score en intervalos de 10 en 10\n",
    "Uni_shuffle['score'] = pd.cut(Uni_shuffle.score, [20,30,40,50,60,70,80,90,100])"
   ]
  },
  {
   "cell_type": "code",
   "execution_count": 778,
   "metadata": {},
   "outputs": [
    {
     "data": {
      "text/html": [
       "<div>\n",
       "<style scoped>\n",
       "    .dataframe tbody tr th:only-of-type {\n",
       "        vertical-align: middle;\n",
       "    }\n",
       "\n",
       "    .dataframe tbody tr th {\n",
       "        vertical-align: top;\n",
       "    }\n",
       "\n",
       "    .dataframe thead th {\n",
       "        text-align: right;\n",
       "    }\n",
       "</style>\n",
       "<table border=\"1\" class=\"dataframe\">\n",
       "  <thead>\n",
       "    <tr style=\"text-align: right;\">\n",
       "      <th></th>\n",
       "      <th>research_output</th>\n",
       "      <th>international_students</th>\n",
       "      <th>type</th>\n",
       "      <th>score</th>\n",
       "    </tr>\n",
       "  </thead>\n",
       "  <tbody>\n",
       "    <tr>\n",
       "      <th>3425</th>\n",
       "      <td>3</td>\n",
       "      <td>6229</td>\n",
       "      <td>1</td>\n",
       "      <td>(20, 30]</td>\n",
       "    </tr>\n",
       "    <tr>\n",
       "      <th>3574</th>\n",
       "      <td>3</td>\n",
       "      <td>5211</td>\n",
       "      <td>1</td>\n",
       "      <td>(40, 50]</td>\n",
       "    </tr>\n",
       "    <tr>\n",
       "      <th>3553</th>\n",
       "      <td>3</td>\n",
       "      <td>335</td>\n",
       "      <td>1</td>\n",
       "      <td>(40, 50]</td>\n",
       "    </tr>\n",
       "    <tr>\n",
       "      <th>3127</th>\n",
       "      <td>3</td>\n",
       "      <td>3101</td>\n",
       "      <td>0</td>\n",
       "      <td>(40, 50]</td>\n",
       "    </tr>\n",
       "    <tr>\n",
       "      <th>3190</th>\n",
       "      <td>3</td>\n",
       "      <td>3526</td>\n",
       "      <td>1</td>\n",
       "      <td>(30, 40]</td>\n",
       "    </tr>\n",
       "    <tr>\n",
       "      <th>3328</th>\n",
       "      <td>3</td>\n",
       "      <td>9456</td>\n",
       "      <td>1</td>\n",
       "      <td>(20, 30]</td>\n",
       "    </tr>\n",
       "    <tr>\n",
       "      <th>3817</th>\n",
       "      <td>0</td>\n",
       "      <td>1786</td>\n",
       "      <td>0</td>\n",
       "      <td>(40, 50]</td>\n",
       "    </tr>\n",
       "  </tbody>\n",
       "</table>\n",
       "</div>"
      ],
      "text/plain": [
       "      research_output  international_students  type     score\n",
       "3425                3                    6229     1  (20, 30]\n",
       "3574                3                    5211     1  (40, 50]\n",
       "3553                3                     335     1  (40, 50]\n",
       "3127                3                    3101     0  (40, 50]\n",
       "3190                3                    3526     1  (30, 40]\n",
       "3328                3                    9456     1  (20, 30]\n",
       "3817                0                    1786     0  (40, 50]"
      ]
     },
     "execution_count": 778,
     "metadata": {},
     "output_type": "execute_result"
    }
   ],
   "source": [
    "Uni_shuffle.iloc[0:100:15]"
   ]
  },
  {
   "cell_type": "code",
   "execution_count": 779,
   "metadata": {},
   "outputs": [
    {
     "data": {
      "text/plain": [
       "CategoricalIndex([(20, 30], (30, 40], (40, 50], (50, 60], (60, 70], (70, 80],\n",
       "                  (80, 90], (90, 100]],\n",
       "                 categories=[(20, 30], (30, 40], (40, 50], (50, 60], (60, 70], (70, 80], (80, 90], (90, 100]], ordered=True, dtype='category')"
      ]
     },
     "execution_count": 779,
     "metadata": {},
     "output_type": "execute_result"
    }
   ],
   "source": [
    "# Categorizando el campo score\n",
    "Uni_shuffle['score'], categoryScore = Uni_shuffle['score'].factorize(sort = True)\n",
    "categoryScore"
   ]
  },
  {
   "cell_type": "code",
   "execution_count": 780,
   "metadata": {},
   "outputs": [
    {
     "data": {
      "text/html": [
       "<div>\n",
       "<style scoped>\n",
       "    .dataframe tbody tr th:only-of-type {\n",
       "        vertical-align: middle;\n",
       "    }\n",
       "\n",
       "    .dataframe tbody tr th {\n",
       "        vertical-align: top;\n",
       "    }\n",
       "\n",
       "    .dataframe thead th {\n",
       "        text-align: right;\n",
       "    }\n",
       "</style>\n",
       "<table border=\"1\" class=\"dataframe\">\n",
       "  <thead>\n",
       "    <tr style=\"text-align: right;\">\n",
       "      <th></th>\n",
       "      <th>research_output</th>\n",
       "      <th>international_students</th>\n",
       "      <th>type</th>\n",
       "      <th>score</th>\n",
       "    </tr>\n",
       "  </thead>\n",
       "  <tbody>\n",
       "    <tr>\n",
       "      <th>3425</th>\n",
       "      <td>3</td>\n",
       "      <td>6229</td>\n",
       "      <td>1</td>\n",
       "      <td>0</td>\n",
       "    </tr>\n",
       "    <tr>\n",
       "      <th>3512</th>\n",
       "      <td>3</td>\n",
       "      <td>1751</td>\n",
       "      <td>1</td>\n",
       "      <td>2</td>\n",
       "    </tr>\n",
       "    <tr>\n",
       "      <th>3563</th>\n",
       "      <td>3</td>\n",
       "      <td>2270</td>\n",
       "      <td>1</td>\n",
       "      <td>2</td>\n",
       "    </tr>\n",
       "    <tr>\n",
       "      <th>3452</th>\n",
       "      <td>0</td>\n",
       "      <td>2291</td>\n",
       "      <td>1</td>\n",
       "      <td>2</td>\n",
       "    </tr>\n",
       "    <tr>\n",
       "      <th>3398</th>\n",
       "      <td>0</td>\n",
       "      <td>7123</td>\n",
       "      <td>1</td>\n",
       "      <td>0</td>\n",
       "    </tr>\n",
       "  </tbody>\n",
       "</table>\n",
       "</div>"
      ],
      "text/plain": [
       "      research_output  international_students  type  score\n",
       "3425                3                    6229     1      0\n",
       "3512                3                    1751     1      2\n",
       "3563                3                    2270     1      2\n",
       "3452                0                    2291     1      2\n",
       "3398                0                    7123     1      0"
      ]
     },
     "execution_count": 780,
     "metadata": {},
     "output_type": "execute_result"
    }
   ],
   "source": [
    "Uni_shuffle.head()"
   ]
  },
  {
   "cell_type": "code",
   "execution_count": 781,
   "metadata": {},
   "outputs": [],
   "source": [
    "# Modificando el campo intervalos de estudiantes en grupos de  5000\n",
    "Uni_shuffle['international_students'] = pd.cut(Uni_shuffle.international_students, [0,5000,10000,15000,20000,25000,30000,32000])"
   ]
  },
  {
   "cell_type": "code",
   "execution_count": 782,
   "metadata": {},
   "outputs": [
    {
     "data": {
      "text/html": [
       "<div>\n",
       "<style scoped>\n",
       "    .dataframe tbody tr th:only-of-type {\n",
       "        vertical-align: middle;\n",
       "    }\n",
       "\n",
       "    .dataframe tbody tr th {\n",
       "        vertical-align: top;\n",
       "    }\n",
       "\n",
       "    .dataframe thead th {\n",
       "        text-align: right;\n",
       "    }\n",
       "</style>\n",
       "<table border=\"1\" class=\"dataframe\">\n",
       "  <thead>\n",
       "    <tr style=\"text-align: right;\">\n",
       "      <th></th>\n",
       "      <th>research_output</th>\n",
       "      <th>international_students</th>\n",
       "      <th>type</th>\n",
       "      <th>score</th>\n",
       "    </tr>\n",
       "  </thead>\n",
       "  <tbody>\n",
       "    <tr>\n",
       "      <th>3425</th>\n",
       "      <td>3</td>\n",
       "      <td>(5000, 10000]</td>\n",
       "      <td>1</td>\n",
       "      <td>0</td>\n",
       "    </tr>\n",
       "    <tr>\n",
       "      <th>3512</th>\n",
       "      <td>3</td>\n",
       "      <td>(0, 5000]</td>\n",
       "      <td>1</td>\n",
       "      <td>2</td>\n",
       "    </tr>\n",
       "    <tr>\n",
       "      <th>3563</th>\n",
       "      <td>3</td>\n",
       "      <td>(0, 5000]</td>\n",
       "      <td>1</td>\n",
       "      <td>2</td>\n",
       "    </tr>\n",
       "    <tr>\n",
       "      <th>3452</th>\n",
       "      <td>0</td>\n",
       "      <td>(0, 5000]</td>\n",
       "      <td>1</td>\n",
       "      <td>2</td>\n",
       "    </tr>\n",
       "    <tr>\n",
       "      <th>3398</th>\n",
       "      <td>0</td>\n",
       "      <td>(5000, 10000]</td>\n",
       "      <td>1</td>\n",
       "      <td>0</td>\n",
       "    </tr>\n",
       "  </tbody>\n",
       "</table>\n",
       "</div>"
      ],
      "text/plain": [
       "      research_output international_students  type  score\n",
       "3425                3          (5000, 10000]     1      0\n",
       "3512                3              (0, 5000]     1      2\n",
       "3563                3              (0, 5000]     1      2\n",
       "3452                0              (0, 5000]     1      2\n",
       "3398                0          (5000, 10000]     1      0"
      ]
     },
     "execution_count": 782,
     "metadata": {},
     "output_type": "execute_result"
    }
   ],
   "source": [
    "Uni_shuffle.head()"
   ]
  },
  {
   "cell_type": "code",
   "execution_count": 783,
   "metadata": {},
   "outputs": [
    {
     "data": {
      "text/plain": [
       "CategoricalIndex([     (0, 5000],  (5000, 10000], (10000, 15000],\n",
       "                  (15000, 20000], (20000, 25000], (25000, 30000],\n",
       "                  (30000, 32000]],\n",
       "                 categories=[(0, 5000], (5000, 10000], (10000, 15000], (15000, 20000], (20000, 25000], (25000, 30000], (30000, 32000]], ordered=True, dtype='category')"
      ]
     },
     "execution_count": 783,
     "metadata": {},
     "output_type": "execute_result"
    }
   ],
   "source": [
    "# Categorizando el campo international_students\n",
    "Uni_shuffle['international_students'], categoryStudents = Uni_shuffle['international_students'].factorize(sort = True)\n",
    "categoryStudents"
   ]
  },
  {
   "cell_type": "code",
   "execution_count": 784,
   "metadata": {},
   "outputs": [
    {
     "data": {
      "text/html": [
       "<div>\n",
       "<style scoped>\n",
       "    .dataframe tbody tr th:only-of-type {\n",
       "        vertical-align: middle;\n",
       "    }\n",
       "\n",
       "    .dataframe tbody tr th {\n",
       "        vertical-align: top;\n",
       "    }\n",
       "\n",
       "    .dataframe thead th {\n",
       "        text-align: right;\n",
       "    }\n",
       "</style>\n",
       "<table border=\"1\" class=\"dataframe\">\n",
       "  <thead>\n",
       "    <tr style=\"text-align: right;\">\n",
       "      <th></th>\n",
       "      <th>research_output</th>\n",
       "      <th>international_students</th>\n",
       "      <th>type</th>\n",
       "      <th>score</th>\n",
       "    </tr>\n",
       "  </thead>\n",
       "  <tbody>\n",
       "    <tr>\n",
       "      <th>3425</th>\n",
       "      <td>3</td>\n",
       "      <td>1</td>\n",
       "      <td>1</td>\n",
       "      <td>0</td>\n",
       "    </tr>\n",
       "    <tr>\n",
       "      <th>3512</th>\n",
       "      <td>3</td>\n",
       "      <td>0</td>\n",
       "      <td>1</td>\n",
       "      <td>2</td>\n",
       "    </tr>\n",
       "    <tr>\n",
       "      <th>3563</th>\n",
       "      <td>3</td>\n",
       "      <td>0</td>\n",
       "      <td>1</td>\n",
       "      <td>2</td>\n",
       "    </tr>\n",
       "    <tr>\n",
       "      <th>3452</th>\n",
       "      <td>0</td>\n",
       "      <td>0</td>\n",
       "      <td>1</td>\n",
       "      <td>2</td>\n",
       "    </tr>\n",
       "    <tr>\n",
       "      <th>3398</th>\n",
       "      <td>0</td>\n",
       "      <td>1</td>\n",
       "      <td>1</td>\n",
       "      <td>0</td>\n",
       "    </tr>\n",
       "  </tbody>\n",
       "</table>\n",
       "</div>"
      ],
      "text/plain": [
       "      research_output  international_students  type  score\n",
       "3425                3                       1     1      0\n",
       "3512                3                       0     1      2\n",
       "3563                3                       0     1      2\n",
       "3452                0                       0     1      2\n",
       "3398                0                       1     1      0"
      ]
     },
     "execution_count": 784,
     "metadata": {},
     "output_type": "execute_result"
    }
   ],
   "source": [
    "Uni_shuffle.head()"
   ]
  },
  {
   "cell_type": "code",
   "execution_count": 785,
   "metadata": {},
   "outputs": [],
   "source": [
    "#Standarizando los datos\n",
    "from sklearn.preprocessing import StandardScaler"
   ]
  },
  {
   "cell_type": "code",
   "execution_count": 786,
   "metadata": {},
   "outputs": [
    {
     "name": "stdout",
     "output_type": "stream",
     "text": [
      "[2.28250702 0.28905519 0.81197381 1.97006548]\n"
     ]
    }
   ],
   "source": [
    "scaler = StandardScaler()\n",
    "scaler.fit(Uni_shuffle)\n",
    "print(scaler.mean_)"
   ]
  },
  {
   "cell_type": "code",
   "execution_count": 787,
   "metadata": {},
   "outputs": [
    {
     "data": {
      "text/plain": [
       "array([[ 0.58271673,  1.025599  ,  0.4812139 , -1.50446918],\n",
       "       [ 0.58271673, -0.41698696,  0.4812139 ,  0.02285993],\n",
       "       [ 0.58271673, -0.41698696,  0.4812139 ,  0.02285993],\n",
       "       ...,\n",
       "       [-1.85375336,  3.91077092,  0.4812139 ,  0.02285993],\n",
       "       [ 0.58271673, -0.41698696, -2.07807795,  0.02285993],\n",
       "       [ 0.58271673, -0.41698696,  0.4812139 ,  0.02285993]])"
      ]
     },
     "execution_count": 787,
     "metadata": {},
     "output_type": "execute_result"
    }
   ],
   "source": [
    "Uni_shuffle = scaler.fit_transform(Uni_shuffle)\n",
    "Uni_shuffle"
   ]
  },
  {
   "cell_type": "code",
   "execution_count": 788,
   "metadata": {},
   "outputs": [
    {
     "name": "stdout",
     "output_type": "stream",
     "text": [
      "[[-1.50446918]\n",
      " [ 0.02285993]\n",
      " [ 0.02285993]\n",
      " ...\n",
      " [ 0.02285993]\n",
      " [ 0.02285993]\n",
      " [ 0.02285993]] \n",
      " [[ 0.58271673  1.025599    0.4812139 ]\n",
      " [ 0.58271673 -0.41698696  0.4812139 ]\n",
      " [ 0.58271673 -0.41698696  0.4812139 ]\n",
      " ...\n",
      " [-1.85375336  3.91077092  0.4812139 ]\n",
      " [ 0.58271673 -0.41698696 -2.07807795]\n",
      " [ 0.58271673 -0.41698696  0.4812139 ]]\n"
     ]
    }
   ],
   "source": [
    "#Separando los datos para entrenamiento y prueba\n",
    "trainDatax = Uni_shuffle[:,0:3].copy()\n",
    "trainDatay = Uni_shuffle[:,3:].copy()\n",
    "print(trainDatay,\"\\n\", trainDatax)"
   ]
  },
  {
   "cell_type": "code",
   "execution_count": 789,
   "metadata": {},
   "outputs": [
    {
     "name": "stdout",
     "output_type": "stream",
     "text": [
      "[0.40183356 0.30736115 0.29080529]\n"
     ]
    }
   ],
   "source": [
    "from sklearn.decomposition import PCA\n",
    "pca = PCA(n_components=3)\n",
    "pca.fit(trainDatax)\n",
    "print(pca.explained_variance_ratio_)  "
   ]
  },
  {
   "cell_type": "code",
   "execution_count": 790,
   "metadata": {},
   "outputs": [
    {
     "name": "stdout",
     "output_type": "stream",
     "text": [
      "[[ 0.58271673  1.025599    0.4812139 ]\n",
      " [ 0.58271673 -0.41698696  0.4812139 ]\n",
      " [ 0.58271673 -0.41698696  0.4812139 ]\n",
      " ...\n",
      " [-1.85375336  3.91077092  0.4812139 ]\n",
      " [ 0.58271673 -0.41698696 -2.07807795]\n",
      " [ 0.58271673 -0.41698696  0.4812139 ]] [[-1.50446918]\n",
      " [ 0.02285993]\n",
      " [ 0.02285993]\n",
      " ...\n",
      " [ 0.02285993]\n",
      " [ 0.02285993]\n",
      " [ 0.02285993]]\n"
     ]
    }
   ],
   "source": [
    "print(trainDatax, trainDatay)"
   ]
  },
  {
   "cell_type": "code",
   "execution_count": 791,
   "metadata": {},
   "outputs": [],
   "source": [
    "# Entrenar la RN\n",
    "import numpy as np\n",
    "from sklearn.model_selection import train_test_split"
   ]
  },
  {
   "cell_type": "code",
   "execution_count": 792,
   "metadata": {},
   "outputs": [],
   "source": [
    "x_train, x_test, y_train, y_test= train_test_split(trainDatax, trainDatay, test_size=0.2)"
   ]
  },
  {
   "cell_type": "code",
   "execution_count": 793,
   "metadata": {},
   "outputs": [
    {
     "name": "stdout",
     "output_type": "stream",
     "text": [
      "[[-1.85375336 -0.41698696  0.4812139 ]\n",
      " [ 0.58271673 -0.41698696  0.4812139 ]\n",
      " [-0.22943997 -0.41698696 -2.07807795]\n",
      " [ 0.58271673 -0.41698696  0.4812139 ]\n",
      " [ 0.58271673 -0.41698696  0.4812139 ]] [[ 0.58271673  1.025599    0.4812139 ]\n",
      " [ 0.58271673 -0.41698696  0.4812139 ]\n",
      " [-1.85375336 -0.41698696 -2.07807795]\n",
      " [-0.22943997 -0.41698696 -2.07807795]\n",
      " [ 0.58271673 -0.41698696  0.4812139 ]] [[-1.50446918]\n",
      " [-1.50446918]\n",
      " [-1.50446918]\n",
      " [ 0.02285993]\n",
      " [ 0.02285993]] [[-0.74080462]\n",
      " [-0.74080462]\n",
      " [ 0.02285993]\n",
      " [-1.50446918]\n",
      " [ 0.02285993]]\n"
     ]
    }
   ],
   "source": [
    "print(x_train[0:5], x_test[0:5], y_train[0:5], y_test[0:5])"
   ]
  },
  {
   "cell_type": "code",
   "execution_count": 794,
   "metadata": {},
   "outputs": [],
   "source": [
    "#import numpy as np\n",
    "\n",
    "def sigmoide(x):\n",
    "  return (1.0/(1.0+np.exp(-x)))\n",
    "def derivada(x):\n",
    "  return sigmoide(x)*(1.0-sigmoide(x))\n",
    "\n",
    "def neurona(\n",
    "    entrada, pesosCO1, tendenciasC01, pesosCO2, tendenciasCO2 \n",
    "    ,pesosCO3, tendenciasCO3, pesosCO4, tendenciasCO4\n",
    "    ,pesosCO5, tendenciasCO5, pesosCO6, tendenciasCO6\n",
    "    ,pesosCO7, tendenciasCO7, pesosCO8, tendenciasCO8\n",
    "    ,pesosCO9, tendenciasCO9, pesosCO10, tendenciasCO10\n",
    "    ,pesosCO11, tendenciasCO11, pesosCO12, tendenciasCO12\n",
    "    ,pesosCS, tendenciasCS):\n",
    "  entradaNetaC1=np.dot(pesosCO1, np.transpose(entrada))-tendenciasC01\n",
    "  salidaC1=sigmoide(entradaNetaC1)\n",
    "\n",
    "  entradaNetaC2 = np.dot(pesosCO2,salidaC1)-tendenciasCO2\n",
    "  salidaC2=sigmoide(entradaNetaC2)\n",
    "\n",
    "  entradaNetaC3 = np.dot(pesosCO3,salidaC2)-tendenciasCO3\n",
    "  salidaC3=sigmoide(entradaNetaC3)\n",
    "    \n",
    "  entradaNetaC4 = np.dot(pesosCO4,salidaC3)-tendenciasCO4\n",
    "  salidaC4=sigmoide(entradaNetaC4)\n",
    "    \n",
    "  entradaNetaC5 = np.dot(pesosCO5,salidaC4)-tendenciasCO5\n",
    "  salidaC5=sigmoide(entradaNetaC5)\n",
    "\n",
    "  entradaNetaC6 = np.dot(pesosCO6,salidaC5)-tendenciasCO6\n",
    "  salidaC6=sigmoide(entradaNetaC6)\n",
    "    \n",
    "  entradaNetaC7 = np.dot(pesosCO7,salidaC6)-tendenciasCO7\n",
    "  salidaC7=sigmoide(entradaNetaC7)\n",
    "    \n",
    "  entradaNetaC8 = np.dot(pesosCO8,salidaC7)-tendenciasCO8\n",
    "  salidaC8=sigmoide(entradaNetaC8)\n",
    "    \n",
    "  entradaNetaC9 = np.dot(pesosCO9,salidaC8)-tendenciasCO9\n",
    "  salidaC9=sigmoide(entradaNetaC9)\n",
    "    \n",
    "  entradaNetaC10 = np.dot(pesosCO10,salidaC9)-tendenciasCO10\n",
    "  salidaC10=sigmoide(entradaNetaC10)\n",
    "    \n",
    "  entradaNetaC11 = np.dot(pesosCO11,salidaC10)-tendenciasCO11\n",
    "  salidaC11=sigmoide(entradaNetaC11)\n",
    "    \n",
    "  entradaNetaC12 = np.dot(pesosCO12,salidaC11)-tendenciasCO12\n",
    "  salidaC12=sigmoide(entradaNetaC12)\n",
    "\n",
    "  entradaNetaCS = np.dot(pesosCS,salidaC3)-tendenciasCS\n",
    "  salida=sigmoide(entradaNetaCS)\n",
    "\n",
    "  return salida, entradaNetaCS, entradaNetaC12,entradaNetaC11,entradaNetaC10,entradaNetaC9,entradaNetaC8,entradaNetaC7, entradaNetaC6, entradaNetaC5,entradaNetaC4,entradaNetaC3,entradaNetaC2,entradaNetaC1\n",
    "# el algoritmo recibe\n",
    "# FacorAprendizaje: que tanto se permite el cambio en los pesos w(t) = e*error'f'(neta)*xj\n",
    "# error: un valor de error que permitimos\n",
    "# entradas: el conjunto de entradas que se van a trabajar \n",
    "# salidas: salidas esperadas\n",
    "# max-it: el numero de iteraciones que prmitimos\n",
    "# alpha: el valor de incremento del factor de aprendzaje\n",
    "# rho: El valor de decremento del factor de aprendizaje\n",
    "# neuronasC1: numero de neuronas en la capa oculta 1\n",
    "# neuronasC2: numero de neuronas en la capa oculta 2\n",
    "# neuronasC3: numero de neuronas en la capa oculta 3\n",
    "def backpropagation(entradas, salidas,factorAprendizaje, error, max_it, alpha, rho, neuronasC1, neuronasC2, neuronasC3,neuronasC4, neuronasC5, neuronasC6,neuronasC7, neuronasC8, neuronasC9,neuronasC10, neuronasC11, neuronasC12):\n",
    "\n",
    "  pesosCO1=2*np.random.rand(neuronasC1,entradas.shape[1])-1\n",
    "  tendenciasC1=2*np.random.rand(neuronasC1)-1\n",
    "\n",
    "  pesosCO2=2*np.random.rand(neuronasC2,neuronasC1)-1\n",
    "  tendenciasC2=2*np.random.rand(neuronasC2)-1\n",
    "\n",
    "  pesosCO3=2*np.random.rand(neuronasC3,neuronasC2)-1\n",
    "  tendenciasC3=2*np.random.rand(neuronasC3)-1\n",
    "    \n",
    "  pesosCO4=2*np.random.rand(neuronasC4,neuronasC3)-1\n",
    "  tendenciasC4=2*np.random.rand(neuronasC4)-1\n",
    "  \n",
    "  pesosCO5=2*np.random.rand(neuronasC5,neuronasC4)-1\n",
    "  tendenciasC5=2*np.random.rand(neuronasC5)-1\n",
    "\n",
    "  pesosCO6=2*np.random.rand(neuronasC6,neuronasC5)-1\n",
    "  tendenciasC6=2*np.random.rand(neuronasC6)-1\n",
    " \n",
    "  pesosCO7=2*np.random.rand(neuronasC7,neuronasC6)-1\n",
    "  tendenciasC7=2*np.random.rand(neuronasC7)-1\n",
    "\n",
    "  pesosCO8=2*np.random.rand(neuronasC8,neuronasC7)-1\n",
    "  tendenciasC8=2*np.random.rand(neuronasC8)-1\n",
    "    \n",
    "  pesosCO9=2*np.random.rand(neuronasC9,neuronasC8)-1\n",
    "  tendenciasC9=2*np.random.rand(neuronasC9)-1\n",
    "    \n",
    "  pesosCO10=2*np.random.rand(neuronasC10,neuronasC9)-1\n",
    "  tendenciasC10=2*np.random.rand(neuronasC10)-1\n",
    "\n",
    "  pesosCO11=2*np.random.rand(neuronasC11,neuronasC10)-1\n",
    "  tendenciasC11=2*np.random.rand(neuronasC11)-1\n",
    "    \n",
    "  pesosCO12=2*np.random.rand(neuronasC12,neuronasC11)-1\n",
    "  tendenciasC12=2*np.random.rand(neuronasC12)-1\n",
    "     \n",
    "  pesosCS = 2*np.random.rand(neuronasC12)-1\n",
    "  #pesosCS = 2*np.random.rand(salidas.shape[1],neuronasC12)-1 #mas de una salida\n",
    "  tendenciasCS=2*np.random.rand(1)-1\n",
    "  it=0\n",
    "  errorVec=[]\n",
    "  errorAnt=float('inf')\n",
    "  while(it<max_it):\n",
    "    it+=1\n",
    "    errorIt=0\n",
    "    for i in range(0, entradas.shape[0]):\n",
    "      ent=entradas[i]\n",
    "      t=salidas[i]\n",
    "      y,entradaNetaCS, entradaNetaC12,entradaNetaC11,entradaNetaC10,entradaNetaC9,entradaNetaC8,entradaNetaC7,entradaNetaC6,entradaNetaC5,entradaNetaC4,entradaNetaC3, entradaNetaC2, entradaNetaC1=neurona(\n",
    "          ent, pesosCO1, tendenciasC1, pesosCO2, tendenciasC2,pesosCO3, tendenciasC3, pesosCO4, tendenciasC4,pesosCO5, tendenciasC5,pesosCO6, tendenciasC6,pesosCO7, tendenciasC7,pesosCO8, tendenciasC8,pesosCO9, tendenciasC9,pesosCO10, tendenciasC10,pesosCO11, tendenciasC11,pesosCO12, tendenciasC12,pesosCS, tendenciasCS\n",
    "        )\n",
    "\n",
    "      errorIt+=np.power(t-y,2)/2.0\n",
    "      #np.sum(np.power(t-y,2)/2.0)\n",
    "\n",
    "    errorVec.append(errorIt)\n",
    "    for i in range(0, entradas.shape[0]):\n",
    "      ent=entradas[i]\n",
    "      t=salidas[i]\n",
    "      y,entradaNetaCS, entradaNetaC12,entradaNetaC11,entradaNetaC10,entradaNetaC9,entradaNetaC8,entradaNetaC7,entradaNetaC6,entradaNetaC5,entradaNetaC4,entradaNetaC3, entradaNetaC2, entradaNetaC1=neurona(\n",
    "          ent, pesosCO1, tendenciasC1, pesosCO2, tendenciasC2,pesosCO3, tendenciasC3, pesosCO4, tendenciasC4,pesosCO5, tendenciasC5,pesosCO6, tendenciasC6,pesosCO7, tendenciasC7,pesosCO8, tendenciasC8,pesosCO9, tendenciasC9,pesosCO10, tendenciasC10,pesosCO11, tendenciasC11,pesosCO12, tendenciasC12,pesosCS, tendenciasCS\n",
    "      )\n",
    "\n",
    "      # calcular el error en la https://meet.google.com/poh-rbpy-vtv?authuser=0capa salida\n",
    "      errorCS=(t-y)*derivada(entradaNetaCS)\n",
    "      #error = np.sum(3rroCS)\n",
    "\n",
    "      errorC12=0\n",
    "      for j in range(0,pesosCS.shape[0]):\n",
    "        #for k in range(...)\n",
    "        errorC12+=pesosCS[j]*errorCS*derivada(entradaNetaC12[j])\n",
    "\n",
    "      errorC11=0\n",
    "      for j in range(0,pesosCO12.shape[0]):\n",
    "        for k in range(0, pesosCO12.shape[1]):\n",
    "          errorC11 += pesosCO12[j][k]*errorC12*derivada(entradaNetaC11[k])\n",
    "        \n",
    "      errorC10=0\n",
    "      for j in range(0,pesosCO11.shape[0]):\n",
    "        for k in range(0, pesosCO11.shape[1]):\n",
    "          errorC10 += pesosCO11[j][k]*errorC11*derivada(entradaNetaC10[k])\n",
    "        \n",
    "      errorC9=0\n",
    "      for j in range(0,pesosCO10.shape[0]):\n",
    "        for k in range(0, pesosCO10.shape[1]):\n",
    "          errorC9 += pesosCO10[j][k]*errorC10*derivada(entradaNetaC9[k])\n",
    "        \n",
    "      errorC8=0\n",
    "      for j in range(0,pesosCO9.shape[0]):\n",
    "        for k in range(0, pesosCO9.shape[1]):\n",
    "          errorC8 += pesosCO9[j][k]*errorC9*derivada(entradaNetaC8[k])\n",
    "        \n",
    "      errorC7=0\n",
    "      for j in range(0,pesosCO8.shape[0]):\n",
    "        for k in range(0, pesosCO8.shape[1]):\n",
    "          errorC7 += pesosCO8[j][k]*errorC8*derivada(entradaNetaC7[k])\n",
    "        \n",
    "      errorC6=0\n",
    "      for j in range(0,pesosCO7.shape[0]):\n",
    "        for k in range(0, pesosCO7.shape[1]):\n",
    "          errorC6 += pesosCO7[j][k]*errorC7*derivada(entradaNetaC6[k])\n",
    "        \n",
    "      errorC5=0\n",
    "      for j in range(0,pesosCO6.shape[0]):\n",
    "        for k in range(0, pesosCO6.shape[1]):\n",
    "          errorC5 += pesosCO6[j][k]*errorC6*derivada(entradaNetaC5[k])\n",
    "        \n",
    "      errorC4=0\n",
    "      for j in range(0,pesosCO5.shape[0]):\n",
    "        for k in range(0, pesosCO5.shape[1]):\n",
    "          errorC4 += pesosCO5[j][k]*errorC5*derivada(entradaNetaC4[k])\n",
    "        \n",
    "      errorC3=0\n",
    "      for j in range(0,pesosCO4.shape[0]):\n",
    "        for k in range(0, pesosCO4.shape[1]):\n",
    "          errorC3 += pesosCO4[j][k]*errorC4*derivada(entradaNetaC3[k])\n",
    "\n",
    "      #calcular el error capa oculta 2\n",
    "      errorC2=0\n",
    "      for j in range(0,pesosCO3.shape[0]):\n",
    "        for k in range(0, pesosCO3.shape[1]):\n",
    "          errorC2 += pesosCO3[j][k]*errorC3*derivada(entradaNetaC2[k])\n",
    "\n",
    "      #Calcular el error de la capa oculta 1\n",
    "      errorC1=0\n",
    "      for j in range(0, pesosCO2.shape[0]):\n",
    "        for k in range(0, pesosCO2.shape[1]):\n",
    "          errorC1 += pesosCO2[j][k]*errorC2*derivada(entradaNetaC1[k])\n",
    "\n",
    "      # actualiza pesos\n",
    "      # cada salida\n",
    "      for j in range(0, pesosCS.shape[0]):\n",
    "        pesosCS[j]+=factorAprendizaje*errorCS*entradaNetaCS\n",
    "\n",
    "      #Actualizar las tendencias\n",
    "      for j in range(0,tendenciasCS.shape[0]):\n",
    "        tendenciasCS[j]+=factorAprendizaje*errorCS*(-1)\n",
    "        \n",
    "      #pesos capa oculta 12\n",
    "      for j in range(0, pesosCO12.shape[0]): #neurona de CO3\n",
    "        for k in range(0, pesosCO12.shape[1]): #Salida de la CO2\n",
    "          pesosCO12[j][k] += factorAprendizaje*errorC12*entradaNetaC12[j]\n",
    "      # \n",
    "      # actualizar las tendencias 12\n",
    "      for j in range(0, tendenciasC12.shape[0]):\n",
    "        tendenciasC12[j]+=factorAprendizaje*errorC12*(-1)\n",
    "        \n",
    "      #pesos capa oculta 11\n",
    "      for j in range(0, pesosCO11.shape[0]): #neurona de CO3\n",
    "        for k in range(0, pesosCO11.shape[1]): #Salida de la CO2\n",
    "          pesosCO11[j][k]+=factorAprendizaje*errorC11*entradaNetaC11[j]\n",
    "      # \n",
    "      # actualizar las tendencias 11\n",
    "      for j in range(0, tendenciasC11.shape[0]):\n",
    "        tendenciasC11[j]+=factorAprendizaje*errorC11*(-1)\n",
    "        \n",
    "      #pesos capa oculta 10\n",
    "      for j in range(0, pesosCO10.shape[0]): #neurona de CO3\n",
    "        for k in range(0, pesosCO10.shape[1]): #Salida de la CO2\n",
    "          pesosCO10[j][k]+=factorAprendizaje*errorC10*entradaNetaC10[j]\n",
    "      # \n",
    "      # actualizar las tendencias 10\n",
    "      for j in range(0, tendenciasC10.shape[0]):\n",
    "        tendenciasC10[j]+=factorAprendizaje*errorC10*(-1)\n",
    "        \n",
    "      #pesos capa oculta 9\n",
    "      for j in range(0, pesosCO9.shape[0]): #neurona de CO3\n",
    "        for k in range(0, pesosCO9.shape[1]): #Salida de la CO2\n",
    "          pesosCO9[j][k]+=factorAprendizaje*errorC9*entradaNetaC9[j]\n",
    "      # \n",
    "      # actualizar las tendencias 9\n",
    "      for j in range(0, tendenciasC9.shape[0]):\n",
    "        tendenciasC9[j]+=factorAprendizaje*errorC9*(-1)\n",
    "\n",
    "      #pesos capa oculta 8\n",
    "      for j in range(0, pesosCO8.shape[0]): #neurona de CO3\n",
    "        for k in range(0, pesosCO8.shape[1]): #Salida de la CO2\n",
    "          pesosCO8[j][k]+=factorAprendizaje*errorC8*entradaNetaC8[j]\n",
    "      # \n",
    "      # actualizar las tendencias 8\n",
    "      for j in range(0, tendenciasC8.shape[0]):\n",
    "        tendenciasC8[j]+=factorAprendizaje*errorC8*(-1)\n",
    "        \n",
    "      #pesos capa oculta 7\n",
    "      for j in range(0, pesosCO7.shape[0]): #neurona de CO3\n",
    "        for k in range(0, pesosCO7.shape[1]): #Salida de la CO2\n",
    "          pesosCO7[j][k]+=factorAprendizaje*errorC7*entradaNetaC7[j]\n",
    "      # \n",
    "      # actualizar las tendencias 7\n",
    "      for j in range(0, tendenciasC7.shape[0]):\n",
    "        tendenciasC7[j]+=factorAprendizaje*errorC7*(-1)\n",
    "        \n",
    "      #pesos capa oculta 6\n",
    "      for j in range(0, pesosCO6.shape[0]): #neurona de CO3\n",
    "        for k in range(0, pesosCO6.shape[1]): #Salida de la CO2\n",
    "          pesosCO6[j][k]+=factorAprendizaje*errorC6*entradaNetaC6[j]\n",
    "      # \n",
    "      # actualizar las tendencias 6\n",
    "      for j in range(0, tendenciasC6.shape[0]):\n",
    "        tendenciasC6[j]+=factorAprendizaje*errorC6*(-1)\n",
    "\n",
    "      #pesos capa oculta 5\n",
    "      for j in range(0, pesosCO5.shape[0]): #neurona de CO3\n",
    "        for k in range(0, pesosCO5.shape[1]): #Salida de la CO2\n",
    "          pesosCO5[j][k]+=factorAprendizaje*errorC5*entradaNetaC5[j]\n",
    "      # \n",
    "      # actualizar las tendencias 5\n",
    "      for j in range(0, tendenciasC5.shape[0]):\n",
    "        tendenciasC5[j]+=factorAprendizaje*errorC5*(-1)\n",
    "        \n",
    "      #pesos capa oculta 4\n",
    "      for j in range(0, pesosCO4.shape[0]): #neurona de CO3\n",
    "        for k in range(0, pesosCO4.shape[1]): #Salida de la CO2\n",
    "          pesosCO4[j][k]+=factorAprendizaje*errorC4*entradaNetaC4[j]\n",
    "      # \n",
    "      # actualizar las tendencias 4\n",
    "      for j in range(0, tendenciasC4.shape[0]):\n",
    "        tendenciasC4[j]+=factorAprendizaje*errorC4*(-1)\n",
    "      \n",
    "      #pesos capa oculta 3\n",
    "      for j in range(0, pesosCO3.shape[0]): #neurona de CO3\n",
    "        for k in range(0, pesosCO3.shape[1]): #Salida de la CO2\n",
    "          pesosCO3[j][k]+=factorAprendizaje*errorC3*entradaNetaC3[j]\n",
    "      # \n",
    "      # actualizar las tendencias 3\n",
    "      for j in range(0, tendenciasC3.shape[0]):\n",
    "        tendenciasC3[j]+=factorAprendizaje*errorC3*(-1)\n",
    "\n",
    "      #pesos capa oculta 2\n",
    "      for j in range(0, pesosCO2.shape[0]): #neurona de CO2\n",
    "        for k in range(0, pesosCO2.shape[1]): #Salida de la CO1\n",
    "          pesosCO2[j][k]+=factorAprendizaje*errorC2*entradaNetaC2[j]\n",
    "      # \n",
    "      # actualizar las tendencias 2\n",
    "      for j in range(0, tendenciasC2.shape[0]):\n",
    "        tendenciasC2[j]+=factorAprendizaje*errorC2*(-1)\n",
    "\n",
    "      # Pesos capa oculta 1\n",
    "      for j in range(0, pesosCO1.shape[0]):\n",
    "        for k in range(0, pesosCO1.shape[1]):\n",
    "          pesosCO1[j][k]+=factorAprendizaje*errorC1*entradaNetaC1[j]\n",
    "\n",
    "      #Actualizar las tendencias 1\n",
    "      for j in range(0,tendenciasC1.shape[0]):\n",
    "        tendenciasC1[j]+=factorAprendizaje*errorC1*(-1)\n",
    "\n",
    "    if errorIt < errorAnt:\n",
    "      factorAprendizaje*=alpha\n",
    "  else:\n",
    "    factorAprendizaje*=rho\n",
    "  errorAnt=errorIt\n",
    "  return pesosCS, pesosCO1, pesosCO2, pesosCO3, pesosCO4, pesosCO5, pesosCO6, pesosCO7, pesosCO8, pesosCO9, pesosCO10, pesosCO11, pesosCO12, tendenciasC1, tendenciasC2, tendenciasC3, tendenciasC4, tendenciasC5, tendenciasC6, tendenciasC7, tendenciasC8, tendenciasC9, tendenciasC10, tendenciasC11, tendenciasC12, tendenciasCS, errorVec\n"
   ]
  },
  {
   "cell_type": "code",
   "execution_count": 810,
   "metadata": {},
   "outputs": [],
   "source": [
    "# parametros\n",
    "neuronasC1=5\n",
    "neuronasC2=6 \n",
    "neuronasC3=6\n",
    "neuronasC4=6\n",
    "neuronasC5=6\n",
    "neuronasC6=6\n",
    "neuronasC7=6\n",
    "neuronasC8=6\n",
    "neuronasC9=6\n",
    "neuronasC10=6\n",
    "neuronasC11=6\n",
    "neuronasC12=6\n",
    "factorAprendizaje=1.5\n",
    "alpha=1.05# aumentar el factor de aprendizaje \n",
    "rho=0.90 #disminuir el factor de aprendizaje\n",
    "max_it=10\n",
    "error=0.1"
   ]
  },
  {
   "cell_type": "code",
   "execution_count": 808,
   "metadata": {},
   "outputs": [],
   "source": [
    "# x_train, x_test, y_train, y_test\n",
    "pesosCS, pesosCO12, pesosCO11, pesosCO10,pesosCO9, pesosCO8, pesosCO7,pesosCO6, pesosCO5, pesosCO4,pesosCO3, pesosCO2, pesosCO1, tc12, tc11, tc10,tc9, tc8, tc7,tc6, tc5, tc4,tc3, tc2, tc1, tcs, errorVec=backpropagation(\n",
    "    x_train, y_train,factorAprendizaje, error, max_it, alpha, rho, neuronasC1, neuronasC2, neuronasC3, neuronasC4, neuronasC5, neuronasC6, neuronasC7, neuronasC8, neuronasC9, neuronasC10, neuronasC11, neuronasC12)"
   ]
  },
  {
   "cell_type": "code",
   "execution_count": 809,
   "metadata": {},
   "outputs": [
    {
     "data": {
      "text/plain": [
       "Text(0.5, 1.0, 'Error de entrenamiento')"
      ]
     },
     "execution_count": 809,
     "metadata": {},
     "output_type": "execute_result"
    },
    {
     "data": {
      "image/png": "[encoded data removed]",
      "text/plain": [
       "<Figure size 432x288 with 1 Axes>"
      ]
     },
     "metadata": {
      "needs_background": "light"
     },
     "output_type": "display_data"
    }
   ],
   "source": [
    "import matplotlib.pyplot as plt\n",
    "plt.plot(errorVec)\n",
    "plt.title(\"Error de entrenamiento\")"
   ]
  }
 ],
 "metadata": {
  "colab": {
   "name": "RK_uni.ipynb",
   "provenance": []
  },
  "kernelspec": {
   "display_name": "Python 3 (ipykernel)",
   "language": "python",
   "name": "python3"
  },
  "language_info": {
   "codemirror_mode": {
    "name": "ipython",
    "version": 3
   },
   "file_extension": ".py",
   "mimetype": "text/x-python",
   "name": "python",
   "nbconvert_exporter": "python",
   "pygments_lexer": "ipython3",
   "version": "3.8.10"
  }
 },
 "nbformat": 4,
 "nbformat_minor": 4
}
